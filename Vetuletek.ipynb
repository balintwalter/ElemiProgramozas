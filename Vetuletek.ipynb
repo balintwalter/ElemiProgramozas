{
 "cells": [
  {
   "cell_type": "markdown",
   "metadata": {},
   "source": [
    "#### Centrális síkvetület\n",
    "\\begin{align}\n",
    "x=R \\cdot \\tan (90^{\\circ}-lat)\\cdot \\cos (lon - 90^{\\circ})\\\\\n",
    "y=R \\cdot \\tan (90^{\\circ}-lat)\\cdot \\sin (lon - 90^{\\circ})\n",
    "\\end{align}\n",
    "* Nem szögtartó\n",
    "* Nem területtartó"
   ]
  },
  {
   "cell_type": "markdown",
   "metadata": {},
   "source": [
    "#### Ortografikus síkvetület\n",
    "\\begin{align}\n",
    "x=R \\cdot \\sin (90^{\\circ}-lat)\\cdot \\cos (lon - 90^{\\circ})\\\\\n",
    "y=R \\cdot \\sin (90^{\\circ}-lat)\\cdot \\sin (lon - 90^{\\circ})\n",
    "\\end{align}\n",
    "* Nem szögtartó\n",
    "* Nem területtartó"
   ]
  },
  {
   "cell_type": "markdown",
   "metadata": {},
   "source": [
    "#### Szereografikus síkvetület\n",
    "\\begin{align}\n",
    "x=2 \\cdot R \\cdot \\tan (\\frac{90^{\\circ}-lat}{2}) \\cdot \\cos (lon - 90^{\\circ})\\\\\n",
    "y=2 \\cdot R \\cdot \\tan (\\frac{90^{\\circ}-lat}{2}) \\cdot \\sin (lon - 90^{\\circ})\n",
    "\\end{align}\n",
    "* Szögtartó\n",
    "* Nem területtartó"
   ]
  },
  {
   "cell_type": "markdown",
   "metadata": {},
   "source": [
    "#### Postel–féle síkvetület\n",
    "\\begin{align}\n",
    "x=R \\cdot  (90^{\\circ}-lat) \\cdot \\cos (lon - 90^{\\circ})\\\\\n",
    "y=R \\cdot (90^{\\circ}-lat)\\cdot \\sin (lon - 90^{\\circ})\n",
    "\\end{align}\n",
    "* Nem szögtartó\n",
    "* Nem területtartó"
   ]
  },
  {
   "cell_type": "markdown",
   "metadata": {},
   "source": [
    "#### Lambert–féle síkvetület\n",
    "\\begin{align}\n",
    "x=2 \\cdot R \\cdot  \\sin(\\frac{90^{\\circ}-lat}{2}) \\cdot \\cos (lon - 90^{\\circ})\\\\\n",
    "y=2 \\cdot R \\cdot \\sin(\\frac{90^{\\circ}-lat}{2})\\cdot \\sin (lon - 90^{\\circ})\n",
    "\\end{align}\n",
    "* Nem szögtartó\n",
    "* Területtartó"
   ]
  },
  {
   "cell_type": "markdown",
   "metadata": {},
   "source": [
    "#### Négyzetes hengervetület\n",
    "\\begin{align}\n",
    "x=R \\cdot lon\\\\\n",
    "y= R \\cdot lat\n",
    "\\end{align}\n",
    "* Nem szögtartó\n",
    "* Nem területtartó"
   ]
  },
  {
   "cell_type": "markdown",
   "metadata": {},
   "source": [
    "#### Lambert–féle hengervetület\n",
    "\\begin{align}\n",
    "x=R \\cdot  lon\\\\\n",
    "y= R \\cdot \\cos(90^{\\circ} - lat)\n",
    "\\end{align}\n",
    "* Nem szögtartó\n",
    "* Területtartó"
   ]
  },
  {
   "cell_type": "markdown",
   "metadata": {},
   "source": [
    "#### Mercator–féle hengervetület\n",
    "\\begin{align}\n",
    "x=R \\cdot  lon\\\\\n",
    "y= R \\cdot \\log(\\frac{1}{\\tan(\\frac{90^{\\circ} - lat}{2})})\n",
    "\\end{align}\n",
    "* Szögtartó\n",
    "* Nem területtartó"
   ]
  },
  {
   "cell_type": "markdown",
   "metadata": {},
   "source": []
  }
 ],
 "metadata": {
  "kernelspec": {
   "display_name": "Python 3",
   "language": "python",
   "name": "python3"
  },
  "language_info": {
   "codemirror_mode": {
    "name": "ipython",
    "version": 3
   },
   "file_extension": ".py",
   "mimetype": "text/x-python",
   "name": "python",
   "nbconvert_exporter": "python",
   "pygments_lexer": "ipython3",
   "version": "3.6.9"
  }
 },
 "nbformat": 4,
 "nbformat_minor": 2
}
